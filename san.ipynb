{
 "cells": [
  {
   "cell_type": "code",
   "execution_count": 1,
   "metadata": {},
   "outputs": [
    {
     "name": "stdout",
     "output_type": "stream",
     "text": [
      "朴素贝叶斯log损失为 2.584671\n",
      "finish\n"
     ]
    }
   ],
   "source": [
    "import pandas as pd\n",
    "import numpy as np\n",
    "\n",
    "# 1、载入数据\n",
    "train = pd.read_csv('dataset/train.csv', parse_dates=['Dates'])\n",
    "test = pd.read_csv('dataset/test.csv', parse_dates=['Dates'])\n",
    "\n",
    "# 2、数据预处理，对category进行编码\n",
    "from sklearn import preprocessing\n",
    "label = preprocessing.LabelEncoder() #创建LabelEncoder对象：实例化LabelEncoder类的对象。\n",
    "crime = label.fit_transform(train.Category)  #对train中category列进行编号，作为标签。\n",
    "\n",
    "# 3、对Dates、DayOfWeek、PdDistrict三个特征进行二值化处理\n",
    "days = pd.get_dummies(train.DayOfWeek)\n",
    "district = pd.get_dummies(train.PdDistrict)\n",
    "hour = pd.get_dummies(train.Dates.dt.hour)\n",
    "\n",
    "train_data = pd.concat([days, district, hour], axis=1)\n",
    "train_data['crime'] = crime  # 在DataFrame数据结构表的最后加一列，在本例中相当于标签\n",
    "\n",
    "# 针对测试集做同样的处理\n",
    "days = pd.get_dummies(test.DayOfWeek)\n",
    "district = pd.get_dummies(test.PdDistrict)\n",
    "hour = pd.get_dummies(test.Dates.dt.hour)\n",
    "test_data = pd.concat([days, district, hour], axis=1)\n",
    "\n",
    "# 4、将样本几何分割成训练集和验证集(70%训练,30%验证)\n",
    "from sklearn.model_selection import train_test_split\n",
    "training, validation = train_test_split(train_data, train_size=0.7)\n",
    "\n",
    "# 将列名转换为字符串\n",
    "training.columns = training.columns.astype(str)\n",
    "validation.columns = validation.columns.astype(str)\n",
    "test_data.columns = test_data.columns.astype(str)\n",
    "\n",
    "# 5、朴素贝叶斯\n",
    "from sklearn.metrics import log_loss\n",
    "from sklearn.naive_bayes import BernoulliNB\n",
    "\n",
    "model = BernoulliNB()\n",
    "feature_list = training.columns.tolist()\n",
    "feature_list = feature_list[:len(feature_list) - 1]  # 选取的特征列，最后一列是标签，不能要\n",
    "model.fit(training[feature_list], training['crime'])  # 根据给定的训练数据拟合模型\n",
    "\n",
    "predicted = np.array(model.predict_proba(validation[feature_list]))  # 在验证集上的结果\n",
    "print(\"朴素贝叶斯log损失为 %f\" % (log_loss(validation['crime'], predicted)))  # 多分类的对数损失\n",
    "\n",
    "\n",
    "# 6、在测试集上运行\n",
    "test_predicted = np.array(model.predict_proba(test_data[feature_list]))  # model为朴素贝叶斯\n",
    "\n",
    "# 7、保存结果\n",
    "col_names = np.sort(train['Category'].unique())  # 唯一，按首字母从小到大排序\n",
    "result = pd.DataFrame(data=test_predicted, columns=col_names)  # 合成DataFrame数据结构的表\n",
    "result['Id'] = test['Id'].astype(int)  # 在最后加一列result['Id']\n",
    "result.to_csv('test_output.csv', index=False)  # 保存\n",
    "print(\"finish\")\n"
   ]
  },
  {
   "cell_type": "code",
   "execution_count": 6,
   "metadata": {},
   "outputs": [
    {
     "name": "stdout",
     "output_type": "stream",
     "text": [
      "count                     878049\n",
      "unique                     23228\n",
      "top       800 Block of BRYANT ST\n",
      "freq                       26533\n",
      "Name: Address, dtype: object \n",
      "\n",
      "count                           878049\n",
      "mean     2009-03-16 08:25:41.991847168\n",
      "min                2003-01-06 00:01:00\n",
      "25%                2006-01-11 03:00:00\n",
      "50%                2009-03-07 16:00:00\n",
      "75%                2012-06-11 10:13:00\n",
      "max                2015-05-13 23:53:00\n",
      "Name: Dates, dtype: object \n",
      "\n",
      "count     878049\n",
      "unique         7\n",
      "top       Friday\n",
      "freq      133734\n",
      "Name: DayOfWeek, dtype: object \n",
      "\n",
      "count       878049\n",
      "unique          10\n",
      "top       SOUTHERN\n",
      "freq        157182\n",
      "Name: PdDistrict, dtype: object \n",
      "\n"
     ]
    }
   ],
   "source": [
    "import pandas as pd\n",
    "import numpy as np\n",
    "\n",
    "train = pd.read_csv('dataset/train.csv', parse_dates=['Dates'])\n",
    "test = pd.read_csv('dataset/test.csv', parse_dates=['Dates'])\n",
    "\n",
    "A = pd. Series(train['Address'])\n",
    "print(A.describe(),'\\n')\n",
    "\n",
    "D = pd. Series(train['Dates'])\n",
    "print(D.describe(),'\\n')\n",
    "\n",
    "Day = pd. Series(train['DayOfWeek'])\n",
    "print(Day.describe(),'\\n')\n",
    "\n",
    "P = pd. Series(train['PdDistrict'])\n",
    "print(P.describe(),'\\n')"
   ]
  }
 ],
 "metadata": {
  "kernelspec": {
   "display_name": "computervision",
   "language": "python",
   "name": "python3"
  },
  "language_info": {
   "codemirror_mode": {
    "name": "ipython",
    "version": 3
   },
   "file_extension": ".py",
   "mimetype": "text/x-python",
   "name": "python",
   "nbconvert_exporter": "python",
   "pygments_lexer": "ipython3",
   "version": "3.12.2"
  }
 },
 "nbformat": 4,
 "nbformat_minor": 2
}
